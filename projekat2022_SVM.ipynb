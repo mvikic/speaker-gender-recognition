{
 "cells": [
  {
   "cell_type": "code",
   "execution_count": 1,
   "metadata": {
    "executionInfo": {
     "elapsed": 1182,
     "status": "ok",
     "timestamp": 1649018776895,
     "user": {
      "displayName": "Marko Vikić",
      "userId": "12640055278419338594"
     },
     "user_tz": -120
    },
    "id": "r2DSkMjDwgg9"
   },
   "outputs": [],
   "source": [
    "import numpy as np\n",
    "import matplotlib.pyplot as plt\n",
    "import pandas as pd\n",
    "import seaborn as sns\n",
    "from sklearn.preprocessing import StandardScaler\n",
    "from sklearn.model_selection import train_test_split, StratifiedKFold\n",
    "from sklearn.metrics import confusion_matrix, accuracy_score,precision_score,recall_score,f1_score\n",
    "from sklearn.svm import SVC, LinearSVC\n",
    "from sklearn.decomposition import PCA\n",
    "from sklearn.discriminant_analysis import LinearDiscriminantAnalysis"
   ]
  },
  {
   "cell_type": "code",
   "execution_count": 2,
   "metadata": {
    "colab": {
     "base_uri": "https://localhost:8080/",
     "height": 318
    },
    "executionInfo": {
     "elapsed": 17919,
     "status": "ok",
     "timestamp": 1649018794811,
     "user": {
      "displayName": "Marko Vikić",
      "userId": "12640055278419338594"
     },
     "user_tz": -120
    },
    "id": "U2gryLl6wuDG",
    "outputId": "79c44c2a-7570-4eeb-a803-1e620843b770"
   },
   "outputs": [
    {
     "ename": "ModuleNotFoundError",
     "evalue": "No module named 'google'",
     "output_type": "error",
     "traceback": [
      "\u001b[1;31m---------------------------------------------------------------------------\u001b[0m",
      "\u001b[1;31mModuleNotFoundError\u001b[0m                       Traceback (most recent call last)",
      "Input \u001b[1;32mIn [2]\u001b[0m, in \u001b[0;36m<cell line: 1>\u001b[1;34m()\u001b[0m\n\u001b[1;32m----> 1\u001b[0m \u001b[38;5;28;01mfrom\u001b[39;00m \u001b[38;5;21;01mgoogle\u001b[39;00m\u001b[38;5;21;01m.\u001b[39;00m\u001b[38;5;21;01mcolab\u001b[39;00m \u001b[38;5;28;01mimport\u001b[39;00m drive\n\u001b[0;32m      2\u001b[0m drive\u001b[38;5;241m.\u001b[39mmount(\u001b[38;5;124m'\u001b[39m\u001b[38;5;124m/content/drive\u001b[39m\u001b[38;5;124m'\u001b[39m, force_remount\u001b[38;5;241m=\u001b[39m\u001b[38;5;28;01mTrue\u001b[39;00m)\n\u001b[0;32m      3\u001b[0m dataset_obuka \u001b[38;5;241m=\u001b[39m pd\u001b[38;5;241m.\u001b[39mread_csv(\u001b[38;5;124m'\u001b[39m\u001b[38;5;124m/content/drive/MyDrive/Baza/baza_neutral.csv\u001b[39m\u001b[38;5;124m'\u001b[39m)\n",
      "\u001b[1;31mModuleNotFoundError\u001b[0m: No module named 'google'"
     ]
    }
   ],
   "source": [
    "from google.colab import drive\n",
    "drive.mount('/content/drive', force_remount=True)\n",
    "dataset_obuka = pd.read_csv('/content/drive/MyDrive/Baza/baza_neutral.csv')\n",
    "dataset_obuka.head()"
   ]
  },
  {
   "cell_type": "code",
   "execution_count": null,
   "metadata": {
    "colab": {
     "base_uri": "https://localhost:8080/"
    },
    "executionInfo": {
     "elapsed": 23,
     "status": "ok",
     "timestamp": 1649018794814,
     "user": {
      "displayName": "Marko Vikić",
      "userId": "12640055278419338594"
     },
     "user_tz": -120
    },
    "id": "sP8xFtIdwzW6",
    "outputId": "4174c088-5151-4025-9242-651f6ff9f892"
   },
   "outputs": [],
   "source": [
    "classes = dataset_obuka.iloc[:,-3]\n",
    "print(classes.unique())\n",
    "\n",
    "classes_svi = classes.unique()\n",
    "print(classes_svi)\n",
    "\n",
    "classes_izbaci = ['p0006', 'p0005', 'p0001', 'p0002', 'p1007', 'p1008', 'p1009', 'p1060', 'p1010', 'p1011', 'p1012']\n",
    "classes_ostavi = [i for i in classes_svi if i not in classes_izbaci]\n",
    "\n",
    "print(classes_ostavi)\n",
    "print(len(classes_ostavi))"
   ]
  },
  {
   "cell_type": "code",
   "execution_count": null,
   "metadata": {
    "colab": {
     "base_uri": "https://localhost:8080/"
    },
    "executionInfo": {
     "elapsed": 16,
     "status": "ok",
     "timestamp": 1649018794815,
     "user": {
      "displayName": "Marko Vikić",
      "userId": "12640055278419338594"
     },
     "user_tz": -120
    },
    "id": "SrqJ80faxRA0",
    "outputId": "8b753790-42ea-4ccb-e9c7-8c8c0152a885"
   },
   "outputs": [],
   "source": [
    "dataset_bezImena = dataset_obuka.drop(['name', 'age'], axis = 1)\n",
    "dataset_bezImena.head()\n",
    "print(dataset_bezImena.shape)"
   ]
  },
  {
   "cell_type": "code",
   "execution_count": null,
   "metadata": {
    "colab": {
     "base_uri": "https://localhost:8080/"
    },
    "executionInfo": {
     "elapsed": 373,
     "status": "ok",
     "timestamp": 1649018795175,
     "user": {
      "displayName": "Marko Vikić",
      "userId": "12640055278419338594"
     },
     "user_tz": -120
    },
    "id": "IpDXwKFzxTFz",
    "outputId": "90317a53-164d-4b32-e634-ab1afc3fb6d3"
   },
   "outputs": [],
   "source": [
    "dataset_bezImena_train = dataset_bezImena\n",
    "for i in range(0, len(classes_izbaci)):    \n",
    "    indexes_izb = dataset_bezImena_train.loc[dataset_bezImena_train['class'].str.find(classes_izbaci[i]) != -1].index\n",
    "    dataset_bezImena_train.drop(indexes_izb, axis = 0, inplace = True)\n",
    "dataset_train = dataset_bezImena_train\n",
    "\n",
    "print(dataset_train.shape)"
   ]
  },
  {
   "cell_type": "code",
   "execution_count": null,
   "metadata": {
    "colab": {
     "base_uri": "https://localhost:8080/",
     "height": 299
    },
    "executionInfo": {
     "elapsed": 440,
     "status": "ok",
     "timestamp": 1649018795610,
     "user": {
      "displayName": "Marko Vikić",
      "userId": "12640055278419338594"
     },
     "user_tz": -120
    },
    "id": "dMyN2XPKy3oV",
    "outputId": "ba8c1ad8-4f73-4cc2-8df1-1357ad099956"
   },
   "outputs": [],
   "source": [
    "dataset_train = dataset_train.drop(['class'], axis = 1)\n",
    "dataset_train.head()"
   ]
  },
  {
   "cell_type": "code",
   "execution_count": null,
   "metadata": {
    "colab": {
     "base_uri": "https://localhost:8080/",
     "height": 299
    },
    "executionInfo": {
     "elapsed": 30,
     "status": "ok",
     "timestamp": 1649018795614,
     "user": {
      "displayName": "Marko Vikić",
      "userId": "12640055278419338594"
     },
     "user_tz": -120
    },
    "id": "ATbwwjSwxV_c",
    "outputId": "821d6122-ef72-4af0-c182-d991f4da2538"
   },
   "outputs": [],
   "source": [
    "X_obuka= dataset_train.iloc[:, :-1]\n",
    "y_obuka = dataset_train.iloc[:, -1]\n",
    "\n",
    "X_obuka.head()"
   ]
  },
  {
   "cell_type": "code",
   "execution_count": null,
   "metadata": {
    "colab": {
     "base_uri": "https://localhost:8080/",
     "height": 402
    },
    "executionInfo": {
     "elapsed": 2325,
     "status": "ok",
     "timestamp": 1649018797918,
     "user": {
      "displayName": "Marko Vikić",
      "userId": "12640055278419338594"
     },
     "user_tz": -120
    },
    "id": "wgyneMa3xYri",
    "outputId": "3e465c64-e7e2-4b66-daba-5b07b3310425"
   },
   "outputs": [],
   "source": [
    "#Zenski i muski\n",
    "\n",
    "print('Nedostajućih vrijednosti ima: ', X_obuka.isnull().sum().sum())\n",
    "print('Oznake klasa su: ', y_obuka.unique())\n",
    "pd.set_option('display.max_columns', None)\n",
    "dataset_train.describe()"
   ]
  },
  {
   "cell_type": "code",
   "execution_count": null,
   "metadata": {
    "colab": {
     "base_uri": "https://localhost:8080/",
     "height": 383
    },
    "executionInfo": {
     "elapsed": 2181,
     "status": "ok",
     "timestamp": 1649018800080,
     "user": {
      "displayName": "Marko Vikić",
      "userId": "12640055278419338594"
     },
     "user_tz": -120
    },
    "id": "B34tHXsHxau8",
    "outputId": "40e1bafa-b134-4e17-ccdc-402fdd7334c0"
   },
   "outputs": [],
   "source": [
    "#Muski\n",
    "male = dataset_train[dataset_train['gender'] == 'M']\n",
    "male_sum = sum(dataset_train['gender'] == 'M')\n",
    "print('Klasi MALE pripada: ',male_sum, ' uzoraka')\n",
    "pd.set_option('display.max_columns', None)\n",
    "male.describe()"
   ]
  },
  {
   "cell_type": "code",
   "execution_count": null,
   "metadata": {
    "colab": {
     "base_uri": "https://localhost:8080/",
     "height": 383
    },
    "executionInfo": {
     "elapsed": 2090,
     "status": "ok",
     "timestamp": 1649018802154,
     "user": {
      "displayName": "Marko Vikić",
      "userId": "12640055278419338594"
     },
     "user_tz": -120
    },
    "id": "YYCzKcpCxdG2",
    "outputId": "dd8d5bf6-769d-469a-ee46-6102448a6481"
   },
   "outputs": [],
   "source": [
    "#Zenski\n",
    "female = dataset_train[dataset_train['gender'] == 'F']\n",
    "female_sum = sum(dataset_train['gender'] == 'F')\n",
    "print('Klasi FEMALE: ',female_sum, ' uzoraka')\n",
    "pd.set_option('display.max_columns', None)\n",
    "female.describe()"
   ]
  },
  {
   "cell_type": "code",
   "execution_count": null,
   "metadata": {
    "colab": {
     "base_uri": "https://localhost:8080/"
    },
    "executionInfo": {
     "elapsed": 44723,
     "status": "ok",
     "timestamp": 1649018846869,
     "user": {
      "displayName": "Marko Vikić",
      "userId": "12640055278419338594"
     },
     "user_tz": -120
    },
    "id": "6fewBOqSxgNc",
    "outputId": "1d5523d5-f004-442b-e5a0-7cd79cc8681e"
   },
   "outputs": [],
   "source": [
    "# #ODABIR PARAMETARA ZA SVM METODU SA STANDARDIZOVANIM VREDNOSTIMA NA CELOM SKUPU - FOR PETLJA\n",
    "labels_y = ['M', 'F']\n",
    "s = StandardScaler()\n",
    "kf = StratifiedKFold(n_splits=10, shuffle=True, random_state=42)\n",
    "acc = []\n",
    "iteracija = 0 \n",
    "for c in [1,10,100]:\n",
    "     for F in ['linear', 'rbf']:\n",
    "       for d in ['ovo', 'ovr']:\n",
    "            indexes = kf.split(X_obuka, y_obuka)\n",
    "            acc_tmp = []\n",
    "            fin_conf_mat = np.zeros((len(np.unique(y_obuka)),len(np.unique(y_obuka))))\n",
    "            for train_index, test_index in indexes:\n",
    "                iteracija += 1\n",
    "                pd.set_option('display.max_rows', None)\n",
    "                #print(X_obuka.iloc[train_index,:].dtypes)\n",
    "                classifier = SVC(C=c, kernel=F,decision_function_shape=d)  \n",
    "                X_std1 = s.fit_transform(X_obuka.iloc[train_index,:])\n",
    "                X_std_test = s.transform(X_obuka.iloc[test_index,:])\n",
    "                classifier.fit(X_std1, y_obuka.iloc[train_index])\n",
    "                #classifier.fit(X_obuka[train_index, :], y_train.iloc[train_index])\n",
    "                y_pred = classifier.predict(X_std_test)\n",
    "                acc_tmp.append(accuracy_score(y_obuka.iloc[test_index], y_pred))\n",
    "                fin_conf_mat += confusion_matrix(y_obuka.iloc[test_index], y_pred, labels=labels_y)\n",
    "            print(int(iteracija/10))\n",
    "            print('za parametre C=', c, ', kernel=', F, ' i pristup=',d, ' tacnost je: ', np.mean(acc_tmp),\n",
    "            ' a mat. konf. je:')\n",
    "            print(fin_conf_mat)\n",
    "            acc.append(np.mean(acc_tmp))\n",
    "print('najbolja tacnost je u iteraciji broj: ', np.argmax(acc))"
   ]
  },
  {
   "cell_type": "code",
   "execution_count": null,
   "metadata": {
    "colab": {
     "base_uri": "https://localhost:8080/",
     "height": 289
    },
    "executionInfo": {
     "elapsed": 823,
     "status": "ok",
     "timestamp": 1649018847689,
     "user": {
      "displayName": "Marko Vikić",
      "userId": "12640055278419338594"
     },
     "user_tz": -120
    },
    "id": "GXoz0k-HzNma",
    "outputId": "6e9e7857-ebea-44b7-b132-4afc27bb9044"
   },
   "outputs": [],
   "source": [
    "dataset_bezImena_test = dataset_obuka.drop(['name', 'age'], axis = 1)\n",
    "indeksi_svi = []\n",
    "for i in range(0, len(classes_ostavi)):    \n",
    "    indexes_ost = dataset_bezImena_test.loc[dataset_bezImena_test['class'].str.find(classes_ostavi[i]) != -1].index\n",
    "    indeksi_svi.append(indexes_ost)\n",
    "    dataset_bezImena_test.drop(indexes_ost, axis = 0, inplace = True)\n",
    "dataset_test = dataset_bezImena_test\n",
    "\n",
    "print(dataset_test.shape)\n",
    "dataset_test.head()"
   ]
  },
  {
   "cell_type": "code",
   "execution_count": null,
   "metadata": {
    "colab": {
     "base_uri": "https://localhost:8080/",
     "height": 270
    },
    "executionInfo": {
     "elapsed": 683,
     "status": "ok",
     "timestamp": 1649018848367,
     "user": {
      "displayName": "Marko Vikić",
      "userId": "12640055278419338594"
     },
     "user_tz": -120
    },
    "id": "WzbG9xjNzOUf",
    "outputId": "efc227a5-ca8a-4c79-ed1f-f0b2ad00599a"
   },
   "outputs": [],
   "source": [
    "dataset_test = dataset_test.drop(['class'], axis = 1)\n",
    "dataset_test.head()"
   ]
  },
  {
   "cell_type": "code",
   "execution_count": null,
   "metadata": {
    "executionInfo": {
     "elapsed": 13,
     "status": "ok",
     "timestamp": 1649018848369,
     "user": {
      "displayName": "Marko Vikić",
      "userId": "12640055278419338594"
     },
     "user_tz": -120
    },
    "id": "ivhO2YRUzRjn"
   },
   "outputs": [],
   "source": [
    "def evaluation_classif(conf_mat):\n",
    "    TP = conf_mat[1,1]\n",
    "    FP = conf_mat[0,1]\n",
    "    FN = conf_mat[1,0]\n",
    "    TN = conf_mat[0,0]\n",
    "    \n",
    "    accuracy = (TP+TN)/(TP+TN+FP+FN)\n",
    "    precision = TP/(TP+FP)\n",
    "    sensitivity = TP/(TP+FN)\n",
    "    specificity = TN/(TN+FP)\n",
    "    F_score = 2*precision*sensitivity/(precision+sensitivity)\n",
    "    print('precision: ', precision)\n",
    "    print('accuracy: ', accuracy)\n",
    "    print('sensitivity/recall: ', sensitivity)\n",
    "    print('specificity: ', specificity)\n",
    "    print('F score: ', F_score)"
   ]
  },
  {
   "cell_type": "code",
   "execution_count": null,
   "metadata": {
    "colab": {
     "base_uri": "https://localhost:8080/",
     "height": 289
    },
    "executionInfo": {
     "elapsed": 14,
     "status": "ok",
     "timestamp": 1649018848370,
     "user": {
      "displayName": "Marko Vikić",
      "userId": "12640055278419338594"
     },
     "user_tz": -120
    },
    "id": "uwrLbN2dzTa9",
    "outputId": "0d07857f-8d2e-46e1-e18f-5d28d05ab98f"
   },
   "outputs": [],
   "source": [
    "X_test= dataset_test.iloc[:, :-1]\n",
    "y_test = dataset_test.iloc[:, -1]\n",
    "\n",
    "print(X_test.shape)\n",
    "X_test.head()"
   ]
  },
  {
   "cell_type": "code",
   "execution_count": null,
   "metadata": {
    "colab": {
     "base_uri": "https://localhost:8080/"
    },
    "executionInfo": {
     "elapsed": 220,
     "status": "ok",
     "timestamp": 1649018848580,
     "user": {
      "displayName": "Marko Vikić",
      "userId": "12640055278419338594"
     },
     "user_tz": -120
    },
    "id": "g3gUvsUAzVOP",
    "outputId": "4326aad0-6948-42ce-e54b-edf039cd8e7f"
   },
   "outputs": [],
   "source": [
    "labels_y = ['M', 'F']\n",
    "conf_mat_svm = np.zeros((len(np.unique(y_obuka)),len(np.unique(y_obuka))))\n",
    "\n",
    "s = StandardScaler()\n",
    "#s.fit(X_obuka)\n",
    "X_obuka_std = s.fit_transform(X_obuka)\n",
    "X_test_std = s.fit_transform(X_test)\n",
    "\n",
    "\n",
    "classifier_kon = SVC(C=10, kernel='linear', decision_function_shape='ovr')\n",
    "classifier_kon.fit(X_obuka_std, y_obuka)\n",
    "   \n",
    "# testiranje\n",
    "y_pred_kon = classifier_kon.predict(X_test_std) \n",
    "\n",
    "conf_mat_svm = confusion_matrix(y_test, y_pred_kon, labels=labels_y)\n",
    "\n",
    "print(conf_mat_svm)\n",
    "\n",
    "evaluation_classif(conf_mat_svm)"
   ]
  },
  {
   "cell_type": "code",
   "execution_count": null,
   "metadata": {
    "colab": {
     "base_uri": "https://localhost:8080/",
     "height": 55
    },
    "executionInfo": {
     "elapsed": 5,
     "status": "ok",
     "timestamp": 1649018848581,
     "user": {
      "displayName": "Marko Vikić",
      "userId": "12640055278419338594"
     },
     "user_tz": -120
    },
    "id": "7iMiT3Taz7C_",
    "outputId": "e8959b08-b396-4189-9905-60e5faaa8f1d"
   },
   "outputs": [],
   "source": [
    "\"\"\"labels_y = ['M', 'F']\n",
    "classifier = SVC(C=10, kernel='linear', decision_function_shape='ovr')\n",
    "classifier.fit(X_obuka, y_obuka)\n",
    "# testiranje\n",
    "y_pred = classifier.predict(X_test) \n",
    "conf_mat = confusion_matrix(y_test, y_pred, labels=labels_y)\n",
    "print(conf_mat)                                               \n",
    "evaluation_classif(conf_mat)\"\"\""
   ]
  },
  {
   "cell_type": "code",
   "execution_count": null,
   "metadata": {
    "colab": {
     "base_uri": "https://localhost:8080/",
     "height": 284
    },
    "executionInfo": {
     "elapsed": 514,
     "status": "ok",
     "timestamp": 1649018849091,
     "user": {
      "displayName": "Marko Vikić",
      "userId": "12640055278419338594"
     },
     "user_tz": -120
    },
    "id": "9WZuYaD90BVL",
    "outputId": "07f78c3a-05ab-4e46-823e-ade54a706dad"
   },
   "outputs": [],
   "source": [
    "#PCA\n",
    "pca = PCA(n_components=None)\n",
    "pca.fit(X_obuka_std)\n",
    "plt.plot(np.cumsum(pca.explained_variance_ratio_))\n",
    "X_obuka_pca = pca.transform(X_obuka_std)\n",
    "X_test_pca = pca.transform(X_test_std)\n",
    "pca_dimenzije = pca.n_components_\n",
    "print('Redukovani prostor ima dimenziju: ', pca_dimenzije)"
   ]
  },
  {
   "cell_type": "code",
   "execution_count": null,
   "metadata": {
    "colab": {
     "base_uri": "https://localhost:8080/"
    },
    "executionInfo": {
     "elapsed": 360249,
     "status": "ok",
     "timestamp": 1649021483088,
     "user": {
      "displayName": "Marko Vikić",
      "userId": "12640055278419338594"
     },
     "user_tz": -120
    },
    "id": "h-rP7K0O03xf",
    "outputId": "5eac4574-d57a-45e4-c6b8-cfade8edbdb9"
   },
   "outputs": [],
   "source": [
    "#PCA\n",
    "labels_y = ['M', 'F']\n",
    "kf = StratifiedKFold(n_splits=10, shuffle=True, random_state=42)\n",
    "acc = []\n",
    "iteracija = 0 \n",
    "for c in [1,10,100]:\n",
    "     for F in ['linear', 'rbf']:\n",
    "       for d in ['ovo', 'ovr']:\n",
    "          for p in [125,150,175,200]:\n",
    "              indexes = kf.split(X_obuka, y_obuka)\n",
    "              acc_tmp = []\n",
    "              fin_conf_mat = np.zeros((len(np.unique(y_obuka)),len(np.unique(y_obuka))))\n",
    "              for train_index, test_index in indexes:\n",
    "                      iteracija += 1\n",
    "                      X_std1 = s.fit_transform(X_obuka.iloc[train_index,:])\n",
    "                      X_std_test = s.transform(X_obuka.iloc[test_index,:])\n",
    "                      pca = PCA(n_components=p)\n",
    "                      pca.fit(X_std1)\n",
    "                      X_train_r = pca.transform(X_std1)\n",
    "                      X_test_r=pca.transform(X_std_test)\n",
    "                      classifier = SVC(C=c, kernel=F,decision_function_shape=d)\n",
    "                      classifier.fit(X_train_r, y_obuka.iloc[train_index])\n",
    "                      y_pred = classifier.predict(X_test_r)\n",
    "                      acc_tmp.append(accuracy_score(y_obuka.iloc[test_index], y_pred))\n",
    "                      fin_conf_mat += confusion_matrix(y_obuka.iloc[test_index], y_pred, labels=labels_y)\n",
    "              print(int(iteracija/10))\n",
    "              print('za parametre n_components=',p , ' C=', c, ', kernel=', F, ' i pristup=',d, ' tacnost je: ', np.mean(acc_tmp),\n",
    "              ' a mat. konf. je:')\n",
    "              print(fin_conf_mat)\n",
    "              acc.append(np.mean(acc_tmp))\n",
    "print('najbolja tacnost je u iteraciji broj: ', np.argmax(acc))"
   ]
  },
  {
   "cell_type": "code",
   "execution_count": null,
   "metadata": {
    "colab": {
     "base_uri": "https://localhost:8080/"
    },
    "executionInfo": {
     "elapsed": 1037,
     "status": "ok",
     "timestamp": 1649021509842,
     "user": {
      "displayName": "Marko Vikić",
      "userId": "12640055278419338594"
     },
     "user_tz": -120
    },
    "id": "d5vIR9CF2TOi",
    "outputId": "f7a0db12-a08b-4082-c023-2dc60d76742d"
   },
   "outputs": [],
   "source": [
    "labels_y = ['M', 'F']\n",
    "pca_conf_mat_svc = np.zeros((len(np.unique(y_obuka)),len(np.unique(y_obuka))))\n",
    "\n",
    "s = StandardScaler()\n",
    "#s.fit(X_obuka)\n",
    "X_obuka_std = s.fit_transform(X_obuka)\n",
    "X_test_std = s.fit_transform(X_test)\n",
    "\n",
    "pca = PCA(n_components=200)\n",
    "pca.fit(X_obuka_std)\n",
    "X_obuka_PCA = pca.transform(X_obuka_std)\n",
    "X_test_PCA = pca.transform(X_test_std)\n",
    "\n",
    "\n",
    "classifier_kon = SVC(C=10, kernel='linear', decision_function_shape='ovr')\n",
    "classifier_kon.fit(X_obuka_PCA, y_obuka)\n",
    "   \n",
    "# testiranje\n",
    "y_pred_kon = classifier_kon.predict(X_test_PCA) \n",
    "\n",
    "pca_conf_mat_svc = confusion_matrix(y_test, y_pred_kon, labels=labels_y)\n",
    "\n",
    "print(pca_conf_mat_svc)\n",
    "\n",
    "evaluation_classif(pca_conf_mat_svc)"
   ]
  },
  {
   "cell_type": "code",
   "execution_count": null,
   "metadata": {
    "colab": {
     "base_uri": "https://localhost:8080/"
    },
    "executionInfo": {
     "elapsed": 548,
     "status": "ok",
     "timestamp": 1649021524984,
     "user": {
      "displayName": "Marko Vikić",
      "userId": "12640055278419338594"
     },
     "user_tz": -120
    },
    "id": "H0YOUW0X2837",
    "outputId": "db67c219-e941-4573-a793-c49a374477e0"
   },
   "outputs": [],
   "source": [
    "#LDA\n",
    "labels_y = ['M', 'F']\n",
    "lda_conf_mat_svm = np.zeros((len(np.unique(y_obuka)),len(np.unique(y_obuka))))\n",
    "\n",
    "s = StandardScaler()\n",
    "#s.fit(X_obuka)\n",
    "X_obuka_std = s.fit_transform(X_obuka)\n",
    "X_test_std = s.transform(X_test)\n",
    "\n",
    "lda = LinearDiscriminantAnalysis(n_components=1)\n",
    "lda.fit(X_obuka_std, y_obuka)\n",
    "X_obuka_LDA = lda.transform(X_obuka_std)\n",
    "X_test_LDA = lda.transform(X_test_std)\n",
    "\n",
    "classifier_kon = SVC(C=10, kernel='linear', decision_function_shape='ovr')\n",
    "classifier_kon.fit(X_obuka_LDA, y_obuka)\n",
    "   \n",
    "# testiranje\n",
    "y_pred_kon = classifier_kon.predict(X_test_LDA) \n",
    "\n",
    "lda_conf_mat_svm = confusion_matrix(y_test, y_pred_kon, labels=labels_y)\n",
    "\n",
    "print(lda_conf_mat_svm)\n",
    "\n",
    "evaluation_classif(lda_conf_mat_svm)"
   ]
  }
 ],
 "metadata": {
  "colab": {
   "authorship_tag": "ABX9TyPfOvLze8i20zm8sRK/4GJL",
   "collapsed_sections": [],
   "name": "projekat2022_SVM.ipynb",
   "provenance": []
  },
  "kernelspec": {
   "display_name": "Python 3 (ipykernel)",
   "language": "python",
   "name": "python3"
  },
  "language_info": {
   "codemirror_mode": {
    "name": "ipython",
    "version": 3
   },
   "file_extension": ".py",
   "mimetype": "text/x-python",
   "name": "python",
   "nbconvert_exporter": "python",
   "pygments_lexer": "ipython3",
   "version": "3.10.6"
  }
 },
 "nbformat": 4,
 "nbformat_minor": 1
}
